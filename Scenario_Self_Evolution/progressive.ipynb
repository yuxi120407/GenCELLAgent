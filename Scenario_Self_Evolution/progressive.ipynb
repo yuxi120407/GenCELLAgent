{
 "cells": [
  {
   "cell_type": "code",
   "execution_count": null,
   "id": "7477e1e6-3130-4ed6-a5cd-4bda8a6d6a8b",
   "metadata": {
    "tags": []
   },
   "outputs": [],
   "source": [
    "import os\n",
    "import time\n",
    "import json\n",
    "import asyncio\n",
    "import datetime\n",
    "import matplotlib.pyplot as plt\n",
    "from PIL import Image\n",
    "import numpy as np\n",
    "import os\n",
    "import random\n",
    "\n",
    "import sys\n",
    "sys.path.append('/home/idies/workspace/Storage/xyu1/persistent/GenCELLAgent/')\n",
    "\n",
    "from style_utils import load_vgg_model, load_and_preprocess_images, GramMatrix, weighted_style_correlation, load_and_preprocess_png\n",
    "from src.tools.oneshot_segGPT import seggpt_inference_img\n",
    "\n",
    "\n",
    "random.seed(1)  # Replace 42 with any fixed number 42, 123, 1234, 12, 1"
   ]
  },
  {
   "cell_type": "code",
   "execution_count": null,
   "id": "8c0ccfdc-3439-4843-b2f4-8a16f7d181fb",
   "metadata": {
    "tags": []
   },
   "outputs": [],
   "source": [
    "def calculate_iou(mask_pred, mask_gt):\n",
    "    \"\"\"Compute IoU between two binary masks.\"\"\"\n",
    "    intersection = np.logical_and(mask_pred, mask_gt).sum()\n",
    "    union = np.logical_or(mask_pred, mask_gt).sum()\n",
    "    if union == 0:\n",
    "        return 0.0\n",
    "    return intersection / union"
   ]
  },
  {
   "cell_type": "code",
   "execution_count": null,
   "id": "b2dbcdcd-778c-4b53-b3ef-757d91711862",
   "metadata": {
    "tags": []
   },
   "outputs": [],
   "source": [
    "# Constants\n",
    "model_path = \"/home/idies/workspace/Storage/xyu1/persistent/micro-sam/finetuning/PytorchNeuralStyleTransfer/Models/vgg_conv.pth\"\n",
    "style_layers = ['r11','r21','r31','r41', 'r51']\n",
    "scales = [1, 1, 1, 1, 1]\n",
    "#style_weights = [n**2/1e4 for n, s in zip([64,128,256,512,512], scales)]\n",
    "style_weights = [1.0] * len(style_layers)\n",
    "\n",
    "vgg = load_vgg_model(model_path)\n",
    "\n",
    "def extract_features(image_path):\n",
    "    img_name = os.path.basename(image_path)\n",
    "    image_tensor = load_and_preprocess_png(os.path.dirname(image_path) + \"/\", [img_name])[0]\n",
    "    features = [GramMatrix()(f).detach() for f in vgg(image_tensor, style_layers)]\n",
    "    return features\n",
    "\n",
    "# Image and label paths\n",
    "image_index_list = [15, 25, 33, 37, 53, 65, 82, 89, 9, 97]\n",
    "random.shuffle(image_index_list)\n",
    "\n",
    "base_img_path = \"/home/idies/workspace/Storage/xyu1/persistent/Langchain/ours_test/test_images/golgi/images/image_{}.png\"\n",
    "base_label_path = \"/home/idies/workspace/Storage/xyu1/persistent/Langchain/ours_test/test_images/golgi/labels/label_{}.png\"\n",
    "\n",
    "# Preload features for all images\n",
    "all_image_paths = [base_img_path.format(idx) for idx in image_index_list]\n",
    "all_label_paths = [base_label_path.format(idx) for idx in image_index_list]\n",
    "all_features = [extract_features(path) for path in all_image_paths]\n",
    "\n",
    "# Store results\n",
    "reference_selections = []\n",
    "\n",
    "# For each image as target\n",
    "for i in range(len(image_index_list)):\n",
    "    target_index = image_index_list[i]\n",
    "    target_feature = all_features[i]\n",
    "    target_image = all_image_paths[i]\n",
    "    target_label = all_label_paths[i]\n",
    "\n",
    "    remaining_indices = [j for j in range(len(image_index_list)) if j != i]\n",
    "    remaining_features = [all_features[j] for j in remaining_indices]\n",
    "    remaining_paths = [all_image_paths[j] for j in remaining_indices]\n",
    "    remaining_labels = [all_label_paths[j] for j in remaining_indices]\n",
    "    remaining_ids = [image_index_list[j] for j in remaining_indices]\n",
    "\n",
    "    progressive_iou_scores = []\n",
    "\n",
    "    # Progressive steps\n",
    "    for k in range(1, len(remaining_indices) + 1):\n",
    "        candidates = remaining_features[:k]\n",
    "        candidate_ids = remaining_ids[:k]\n",
    "        candidate_paths = remaining_paths[:k]\n",
    "        candidate_labels = remaining_labels[:k]\n",
    "\n",
    "        step_results = []\n",
    "\n",
    "        # Compare all k candidates\n",
    "        for j in range(k):\n",
    "            score = weighted_style_correlation(candidates[j], target_feature, style_weights)\n",
    "            step_results.append({\n",
    "                \"reference_index\": candidate_ids[j],\n",
    "                \"reference_image\": candidate_paths[j],\n",
    "                \"reference_label\": candidate_labels[j],\n",
    "                \"score\": score\n",
    "            })\n",
    "\n",
    "        # Select best one\n",
    "        best = max(step_results, key=lambda x: x[\"score\"])\n",
    "\n",
    "        # SegGPT inference\n",
    "        seggpt_inference_img(target_image, best[\"reference_image\"], best[\"reference_label\"])\n",
    "\n",
    "        # Paths\n",
    "        segment_mask_path = \"/home/idies/workspace/Storage/xyu1/persistent/Langchain/ours_test/segment_resutls/seggpt_results_mask.png\"\n",
    "        ground_truth_path = target_label\n",
    "\n",
    "        # Compute IoU\n",
    "        mask_pred = np.array(Image.open(segment_mask_path).convert(\"L\")) > 128\n",
    "        mask_gt = np.array(Image.open(ground_truth_path).convert(\"L\")) > 128\n",
    "        iou_score = calculate_iou(mask_pred, mask_gt)\n",
    "        progressive_iou_scores.append({\n",
    "            \"num_candidates\": k,\n",
    "            \"iou\": iou_score,\n",
    "            \"reference_index\": best[\"reference_index\"],\n",
    "            \"reference_image\": best[\"reference_image\"],\n",
    "            \"reference_label\": best[\"reference_label\"],\n",
    "            \"score\": best[\"score\"]\n",
    "        })\n",
    "\n",
    "    # Store all steps for this target\n",
    "    reference_selections.append({\n",
    "        \"target_index\": target_index,\n",
    "        \"target_image\": target_image,\n",
    "        \"target_label\": target_label,\n",
    "        \"progressive_iou_scores\": progressive_iou_scores\n",
    "    })\n",
    "        \n",
    "# Print all results\n",
    "for sel in reference_selections:\n",
    "    print(f\"\\n=== Target {sel['target_index']} | Progressive IoUs ===\")\n",
    "    for step in sel[\"progressive_iou_scores\"]:\n",
    "        print(f\"Top-{step['num_candidates']} | Ref {step['reference_index']} | Score = {step['score']:.4f} | IoU = {step['iou']:.4f}\")\n",
    "        print(f\"  Reference Image: {step['reference_image']}\")\n",
    "        print(f\"  Reference Label: {step['reference_label']}\")"
   ]
  },
  {
   "cell_type": "code",
   "execution_count": null,
   "id": "ec8cee7e-3e02-417a-a865-4121a274a190",
   "metadata": {
    "tags": []
   },
   "outputs": [],
   "source": [
    "import matplotlib.pyplot as plt\n",
    "\n",
    "# Step 1: Collect IoU values for plotting\n",
    "progressive_ious_all = []  # shape: [num_targets][num_k_steps]\n",
    "\n",
    "for sel in reference_selections:\n",
    "    iou_curve = [step[\"iou\"] for step in sel[\"progressive_iou_scores\"]]\n",
    "    progressive_ious_all.append(iou_curve)\n",
    "\n",
    "# Convert to NumPy array for easy averaging\n",
    "ious_array = np.array(progressive_ious_all)  # shape: (num_targets, num_steps)\n",
    "average_ious = np.mean(ious_array, axis=0)\n",
    "\n",
    "# Step 2: Plot curves\n",
    "plt.figure(figsize=(10, 6))\n",
    "\n",
    "# Plot per-image curves\n",
    "for idx, iou_curve in enumerate(ious_array):\n",
    "    plt.plot(range(1, len(iou_curve)+1), iou_curve, marker='o', label=f'Image {reference_selections[idx][\"target_index\"]}', alpha=0.5)\n",
    "\n",
    "# Plot average curve\n",
    "plt.plot(range(1, len(average_ious)+1), average_ious, marker='o', color='red', linewidth=2.5, label='Average IoU')\n",
    "\n",
    "# Step 3: Customize and show\n",
    "plt.title(\"IoU Progression Over Top-K References\")\n",
    "plt.xlabel(\"Number of Top-K References\")\n",
    "plt.ylabel(\"IoU with Ground Truth\")\n",
    "plt.xticks(range(1, len(average_ious)+1))\n",
    "plt.grid(True)\n",
    "plt.legend(loc='lower right', bbox_to_anchor=(1.15, 0))\n",
    "plt.tight_layout()\n",
    "plt.show()"
   ]
  },
  {
   "cell_type": "code",
   "execution_count": null,
   "id": "4a686a37-0644-4343-9bf8-29451ea8e59b",
   "metadata": {
    "tags": []
   },
   "outputs": [],
   "source": [
    "average_ious"
   ]
  },
  {
   "cell_type": "code",
   "execution_count": null,
   "id": "301b9101-6f9b-497c-9d48-89c76d64801e",
   "metadata": {
    "tags": []
   },
   "outputs": [],
   "source": [
    "np.save(\"progressive_iou_data_GT_seed_1.npy\", reference_selections)\n",
    "print(\"Saved to progressive_iou_data_GT_seed_1.npy\")"
   ]
  },
  {
   "cell_type": "code",
   "execution_count": null,
   "id": "a64942e8-550a-4d7f-b672-a6a0acaf9b2d",
   "metadata": {},
   "outputs": [],
   "source": [
    "file_name"
   ]
  },
  {
   "cell_type": "code",
   "execution_count": null,
   "id": "ba3976d9-b94e-4e61-938d-ba7ea0be8cf1",
   "metadata": {
    "tags": []
   },
   "outputs": [],
   "source": [
    "all_avg_iou = []\n",
    "for seed in [\"12\",\"123\",\"1234\",\"42\", \"ori\"]:\n",
    "    file_name = \"progressive_iou_data_GT_seed_\"+str(seed)+\".npy\"\n",
    "    loaded_data = np.load(file_name, allow_pickle=True)\n",
    "    loaded_data = loaded_data.tolist()  # Optional: convert back to list\n",
    "    progressive_ious_all = []  # shape: [num_targets][num_k_steps]\n",
    "\n",
    "    for sel in loaded_data:\n",
    "        iou_curve = [step[\"iou\"] for step in sel[\"progressive_iou_scores\"]]\n",
    "        progressive_ious_all.append(iou_curve)\n",
    "\n",
    "    # Convert to NumPy array for easy averaging\n",
    "    ious_array = np.array(progressive_ious_all)  # shape: (num_targets, num_steps)\n",
    "    average_ious = np.mean(ious_array, axis=0)\n",
    "    all_avg_iou.append(average_ious)\n"
   ]
  },
  {
   "cell_type": "code",
   "execution_count": null,
   "id": "395267d0-8bdb-4893-9612-0fef0dbcf128",
   "metadata": {
    "tags": []
   },
   "outputs": [],
   "source": [
    "all_avg_iou"
   ]
  },
  {
   "cell_type": "code",
   "execution_count": null,
   "id": "ed28ff1e-6cee-45f2-9558-accd61e3e618",
   "metadata": {
    "tags": []
   },
   "outputs": [],
   "source": [
    "# Stack into 2D array\n",
    "all_avg_iou_array = np.vstack(all_avg_iou)\n",
    "\n",
    "# Compute mean and std\n",
    "mean_iou = np.mean(all_avg_iou_array, axis=0)\n",
    "std_iou = np.std(all_avg_iou_array, axis=0)\n",
    "\n",
    "# X-axis values (Top-k steps)\n",
    "x = np.arange(1, len(mean_iou) + 1)\n",
    "\n",
    "# Plot\n",
    "plt.figure(figsize=(8, 5))\n",
    "plt.plot(x, mean_iou, marker='o', label='Mean IoU', color='blue')\n",
    "plt.fill_between(x, mean_iou - std_iou, mean_iou + std_iou, color='blue', alpha=0.2, label='±1 Std Dev')\n",
    "\n",
    "# Customize\n",
    "plt.title(\"Progressive Reference IoU (Mean ± Std)\")\n",
    "plt.xlabel(\"Top-K Reference Used\")\n",
    "plt.ylabel(\"IoU\")\n",
    "plt.xticks(x)\n",
    "plt.grid(True)\n",
    "plt.legend()\n",
    "plt.tight_layout()"
   ]
  },
  {
   "cell_type": "code",
   "execution_count": null,
   "id": "af71e494-4cba-4341-8905-86f83ae55928",
   "metadata": {},
   "outputs": [],
   "source": []
  }
 ],
 "metadata": {
  "kernelspec": {
   "display_name": "langchain",
   "language": "python",
   "name": "langchain"
  },
  "language_info": {
   "codemirror_mode": {
    "name": "ipython",
    "version": 3
   },
   "file_extension": ".py",
   "mimetype": "text/x-python",
   "name": "python",
   "nbconvert_exporter": "python",
   "pygments_lexer": "ipython3",
   "version": "3.10.14"
  }
 },
 "nbformat": 4,
 "nbformat_minor": 5
}
